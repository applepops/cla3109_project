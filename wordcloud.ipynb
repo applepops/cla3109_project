{
 "cells": [
  {
   "cell_type": "code",
   "execution_count": 25,
   "id": "13fdbe92",
   "metadata": {},
   "outputs": [],
   "source": [
    "import pandas as pd\n",
    "import re"
   ]
  },
  {
   "cell_type": "code",
   "execution_count": 30,
   "id": "26d5a352",
   "metadata": {},
   "outputs": [],
   "source": [
    "petition = pd.read_csv('finish_petition.csv')"
   ]
  },
  {
   "cell_type": "code",
   "execution_count": 31,
   "id": "f2dfba59",
   "metadata": {},
   "outputs": [],
   "source": [
    "p = petition.groupby('category').get_group('일자리')"
   ]
  },
  {
   "cell_type": "code",
   "execution_count": 32,
   "id": "1de5229a",
   "metadata": {},
   "outputs": [
    {
     "name": "stderr",
     "output_type": "stream",
     "text": [
      "C:\\Users\\82104\\AppData\\Local\\Temp/ipykernel_29888/4289516367.py:1: SettingWithCopyWarning: \n",
      "A value is trying to be set on a copy of a slice from a DataFrame.\n",
      "Try using .loc[row_indexer,col_indexer] = value instead\n",
      "\n",
      "See the caveats in the documentation: https://pandas.pydata.org/pandas-docs/stable/user_guide/indexing.html#returning-a-view-versus-a-copy\n",
      "  p['title'] = p['title'].str.findall(r'[ㄱ-ㅣ 가-힣A-Za-z0-9\\.\\,]+')\n"
     ]
    }
   ],
   "source": [
    "p['title'] = p['title'].str.findall(r'[ㄱ-ㅣ 가-힣A-Za-z0-9\\.\\,]+')"
   ]
  },
  {
   "cell_type": "code",
   "execution_count": 33,
   "id": "23cd0d7a",
   "metadata": {},
   "outputs": [],
   "source": [
    "p = p['title'].tolist()"
   ]
  },
  {
   "cell_type": "code",
   "execution_count": 36,
   "id": "1716fd34",
   "metadata": {},
   "outputs": [],
   "source": [
    "p = sum(p, [])"
   ]
  },
  {
   "cell_type": "code",
   "execution_count": 37,
   "id": "0830149f",
   "metadata": {},
   "outputs": [],
   "source": [
    "result = \" \".join(p)"
   ]
  },
  {
   "cell_type": "code",
   "execution_count": 18,
   "id": "03b41dd4",
   "metadata": {},
   "outputs": [
    {
     "ename": "AttributeError",
     "evalue": "'str' object has no attribute 'findall'",
     "output_type": "error",
     "traceback": [
      "\u001b[1;31m---------------------------------------------------------------------------\u001b[0m",
      "\u001b[1;31mAttributeError\u001b[0m                            Traceback (most recent call last)",
      "\u001b[1;32m~\\AppData\\Local\\Temp/ipykernel_29888/240839885.py\u001b[0m in \u001b[0;36m<module>\u001b[1;34m\u001b[0m\n\u001b[1;32m----> 1\u001b[1;33m \u001b[0mresult\u001b[0m \u001b[1;33m=\u001b[0m \u001b[0mresult\u001b[0m\u001b[1;33m.\u001b[0m\u001b[0mfindall\u001b[0m\u001b[1;33m(\u001b[0m\u001b[1;34mr'[ㄱ-ㅣ 가-힣A-Za-z0-9\\.\\,]+'\u001b[0m\u001b[1;33m)\u001b[0m\u001b[1;33m\u001b[0m\u001b[1;33m\u001b[0m\u001b[0m\n\u001b[0m",
      "\u001b[1;31mAttributeError\u001b[0m: 'str' object has no attribute 'findall'"
     ]
    }
   ],
   "source": []
  },
  {
   "cell_type": "code",
   "execution_count": 38,
   "id": "bd1ec72c",
   "metadata": {},
   "outputs": [],
   "source": [
    "myText = open(r'C:\\Users\\82104\\Documents\\GitHub\\skku.cla3109.hw\\cla3109_project\\일자리.txt', 'w')\n",
    "myText.write(result)\n",
    "myText.close()"
   ]
  },
  {
   "cell_type": "code",
   "execution_count": null,
   "id": "a3ca5227",
   "metadata": {},
   "outputs": [],
   "source": [
    "!pip install wordcloud"
   ]
  },
  {
   "cell_type": "code",
   "execution_count": null,
   "id": "ee7b7026",
   "metadata": {},
   "outputs": [],
   "source": [
    "!pip install konlpy"
   ]
  },
  {
   "cell_type": "code",
   "execution_count": 3,
   "id": "ffbd6e53",
   "metadata": {},
   "outputs": [],
   "source": [
    "from wordcloud import WordCloud\n",
    "from konlpy.tag import Twitter\n",
    "from collections import Counter"
   ]
  },
  {
   "cell_type": "code",
   "execution_count": 4,
   "id": "45c2d030",
   "metadata": {},
   "outputs": [],
   "source": [
    "text = open('가습기살균제사건과세월호참사특별조사위원회.txt').read()"
   ]
  },
  {
   "cell_type": "code",
   "execution_count": 5,
   "id": "4be24215",
   "metadata": {},
   "outputs": [
    {
     "name": "stderr",
     "output_type": "stream",
     "text": [
      "C:\\Users\\82104\\anaconda3\\lib\\site-packages\\konlpy\\tag\\_okt.py:17: UserWarning: \"Twitter\" has changed to \"Okt\" since KoNLPy v0.4.5.\n",
      "  warn('\"Twitter\" has changed to \"Okt\" since KoNLPy v0.4.5.')\n"
     ]
    }
   ],
   "source": [
    "twitter = Twitter()\n",
    "\n",
    "# twitter함수를 통해 읽어들인 내용의 형태소를 분석한다.\n",
    "sentences_tag = []\n",
    "sentences_tag = twitter.pos(text) \n",
    "\n",
    "noun_adj_list = []"
   ]
  },
  {
   "cell_type": "code",
   "execution_count": null,
   "id": "811fb4c4",
   "metadata": {},
   "outputs": [],
   "source": [
    "# tag가 명사이거나 형용사인 단어들만 noun_adj_list에 넣어준다.\n",
    "for word, tag in sentences_tag:\n",
    "    if tag in ['Noun' , 'Adjective']: \n",
    "        noun_adj_list.append(word)\n",
    "\n",
    "\n",
    "# 가장 많이 나온 단어부터 40개를 저장한다.\n",
    "counts = Counter(noun_adj_list)\n",
    "tags = counts.most_common(40) \n",
    "\n",
    "\n",
    "# WordCloud를 생성한다.\n",
    "# 한글을 분석하기위해 font를 한글로 지정해주어야 된다. macOS는 .otf , window는 .ttf 파일의 위치를\n",
    "# 지정해준다. (ex. '/Font/GodoM.otf')\n",
    "wc = WordCloud(font_path=[otf 파일의 위치],background_color=\"white\", max_font_size=60)\n",
    "cloud = wc.generate_from_frequencies(dict(tags))\n",
    "\n",
    "\n",
    "# 생성된 WordCloud를 test.jpg로 보낸다.\n",
    "cloud.to_file('test.jpg')"
   ]
  },
  {
   "cell_type": "code",
   "execution_count": null,
   "id": "420d1688",
   "metadata": {},
   "outputs": [],
   "source": [
    "import platform \n",
    "print(platform.architecture())"
   ]
  },
  {
   "cell_type": "code",
   "execution_count": 1,
   "id": "d938ad4d",
   "metadata": {},
   "outputs": [],
   "source": [
    "import os"
   ]
  },
  {
   "cell_type": "code",
   "execution_count": 2,
   "id": "2496a173",
   "metadata": {
    "scrolled": true
   },
   "outputs": [
    {
     "name": "stdout",
     "output_type": "stream",
     "text": [
      "C:\\Program Files\\Java\\jdk-18.0.1.1\n"
     ]
    }
   ],
   "source": [
    "print(os.environ.get('JAVA_HOME'))\n"
   ]
  },
  {
   "cell_type": "code",
   "execution_count": null,
   "id": "912bc4ee",
   "metadata": {},
   "outputs": [],
   "source": [
    "os.environ['JAVA_HOME'] = r'C:\\Program Files\\Java\\jdk18.0.0.1'"
   ]
  },
  {
   "cell_type": "code",
   "execution_count": null,
   "id": "ce7f1916",
   "metadata": {},
   "outputs": [],
   "source": []
  }
 ],
 "metadata": {
  "kernelspec": {
   "display_name": "Python 3 (ipykernel)",
   "language": "python",
   "name": "python3"
  },
  "language_info": {
   "codemirror_mode": {
    "name": "ipython",
    "version": 3
   },
   "file_extension": ".py",
   "mimetype": "text/x-python",
   "name": "python",
   "nbconvert_exporter": "python",
   "pygments_lexer": "ipython3",
   "version": "3.9.7"
  }
 },
 "nbformat": 4,
 "nbformat_minor": 5
}
