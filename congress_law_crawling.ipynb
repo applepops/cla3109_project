{
 "cells": [
  {
   "cell_type": "code",
   "execution_count": 1,
   "id": "3241a1b2",
   "metadata": {},
   "outputs": [
    {
     "name": "stdout",
     "output_type": "stream",
     "text": [
      "Requirement already satisfied: lxml in c:\\users\\82104\\anaconda3\\lib\\site-packages (4.6.3)\n",
      "Requirement already satisfied: requests in c:\\users\\82104\\anaconda3\\lib\\site-packages (2.26.0)\n",
      "Requirement already satisfied: urllib3<1.27,>=1.21.1 in c:\\users\\82104\\anaconda3\\lib\\site-packages (from requests) (1.26.7)\n",
      "Requirement already satisfied: charset-normalizer~=2.0.0 in c:\\users\\82104\\anaconda3\\lib\\site-packages (from requests) (2.0.4)\n",
      "Requirement already satisfied: certifi>=2017.4.17 in c:\\users\\82104\\anaconda3\\lib\\site-packages (from requests) (2021.10.8)\n",
      "Requirement already satisfied: idna<4,>=2.5 in c:\\users\\82104\\anaconda3\\lib\\site-packages (from requests) (3.2)\n",
      "Requirement already satisfied: openpyxl in c:\\users\\82104\\anaconda3\\lib\\site-packages (3.0.9)\n",
      "Requirement already satisfied: et-xmlfile in c:\\users\\82104\\anaconda3\\lib\\site-packages (from openpyxl) (1.1.0)\n"
     ]
    }
   ],
   "source": [
    "!pip install lxml\n",
    "!pip install requests\n",
    "!pip install openpyxl"
   ]
  },
  {
   "cell_type": "code",
   "execution_count": 17,
   "id": "0a61df79",
   "metadata": {},
   "outputs": [],
   "source": [
    "import requests\n",
    "headers = {\"user_agent\": \"Mozilla/5.0 (Windows NT 10.0; Win64; x64) AppleWebKit/537.36 (KHTML, like Gecko) Chrome/99.0.4844.74 Safari/537.36\"}\n",
    "from lxml import html\n",
    "\n",
    "#제 20대 국회입법현황 page1-756 url: range(1, 757)\n",
    "congress_urls = []\n",
    "for i in range(1,756):\n",
    "    congress_urls.append(\"https://opinion.lawmaking.go.kr/gcom/nsmLmSts/out?pageIndex=\" + str(i))\n",
    "    \n",
    "#제 21대 국회입법현황 page1-792 url : range(1, 793)\n",
    "for i in range(1,793):\n",
    "    congress_urls.append(\"https://opinion.lawmaking.go.kr/gcom/nsmLmSts/out?scBlNm=scBlNm_blNm&sugCd=20&pageIndex=\" + str(i))"
   ]
  },
  {
   "cell_type": "code",
   "execution_count": 18,
   "id": "dd035440",
   "metadata": {},
   "outputs": [],
   "source": [
    "#발의된 법안과 발의 날짜, 소관부처를 크롤링\n",
    "\n",
    "law_list = []\n",
    "for congress_url in congress_urls:\n",
    "    text_page = requests.get(congress_url, headers=headers)\n",
    "    content = [i for i in html.fromstring(text_page.text).xpath('//*[@id=\"listView\"]/ul/li[2]/a/text()')]\n",
    "    initiation_date = [i for i in html.fromstring(text_page.text).xpath('//*[@id=\"listView\"]/ul/li[3]/p/text()')]\n",
    "    relevant_department = [i for i in html.fromstring(text_page.text).xpath('//*[@id=\"listView\"]/ul/li[4]/p/text()')]\n",
    "    law_dict = {\"CONTENT\": content, \"INITIATION DATE\": initiation_date, \"RELEVANT DEPARTMENT\": relevant_department}\n",
    "    law_list.append(law_dict)\n",
    "\n",
    "#content xpath: //*[@id=\"listView\"]/ul/li[2]/a/text()\n",
    "#initiation_date xpath: //*[@id=\"listView\"]/ul/li[3]/p/text()\n",
    "#relevant_department xpath: //*[@id=\"listView\"]/ul/li[4]/p/text()\n",
    "\n",
    "#//*[@id=\"listView\"]/ul[20]/li[2]/a (ul은 한 page에 1-20까지)"
   ]
  },
  {
   "cell_type": "code",
   "execution_count": 16,
   "id": "451a3c1c",
   "metadata": {},
   "outputs": [],
   "source": [
    "#law_list: 한 dict에 법안과 날짜가 20개씩 들어가게 됨"
   ]
  },
  {
   "cell_type": "code",
   "execution_count": 6,
   "id": "b7717782",
   "metadata": {},
   "outputs": [],
   "source": [
    "import pandas as pd"
   ]
  },
  {
   "cell_type": "code",
   "execution_count": 35,
   "id": "c6d9a404",
   "metadata": {},
   "outputs": [],
   "source": [
    "#위 문제를 해결하기 위해서 dataframe으로 만든 뒤, column 별로 list로 만들어줌\n",
    "congress_law = pd.DataFrame(law_list)\n",
    "congress_content = congress_law['CONTENT'].tolist()\n",
    "congress_date = congress_law['INITIATION DATE'].tolist()\n",
    "congress_department = congress_law['RELEVANT DEPARTMENT'].tolist()\n",
    "\n",
    "#2차원 리스트의 형태를 1차원으로 \n",
    "congress_content = sum(congress_content, [])\n",
    "congress_date = sum(congress_date, [])\n",
    "congress_department = sum(congress_department, [])\n",
    "\n",
    "#len(congress_content) #30936\n",
    "#len(congress_date) #30937\n",
    "#len(congress_department) #30937\n",
    "\n",
    "#congress_content에서 missing data 발생 [제 21대 국회입법현황 page 313 (list index 6254)]\n",
    "del congress_date[6254]\n",
    "del congress_department[6254]"
   ]
  },
  {
   "cell_type": "code",
   "execution_count": 36,
   "id": "e6a1ee90",
   "metadata": {},
   "outputs": [],
   "source": [
    "#list들을 다시 하나의 dataframe으로 만들어줌\n",
    "congress = pd.DataFrame({\"CONTENT\": congress_content, \"INITIATION DATE\": congress_date, \"RELEVANT DEPARTMENT\": congress_department})"
   ]
  },
  {
   "cell_type": "code",
   "execution_count": 13,
   "id": "91f1548d",
   "metadata": {},
   "outputs": [],
   "source": [
    "import re"
   ]
  },
  {
   "cell_type": "code",
   "execution_count": 37,
   "id": "7f470868",
   "metadata": {},
   "outputs": [],
   "source": [
    "#날짜 크롤링 과정 중에 쓸데없는 정보가 들어갔으므로 정규표현식으로 필요없는 부분을 지워줌\n",
    "congress['INITIATION DATE'] = congress['INITIATION DATE'].astype(str).str.findall(r'[0-9\\.]+')\n",
    "congress['RELEVANT DEPARTMENT'] = congress['RELEVANT DEPARTMENT'].astype(str).str.findall(r'[ㄱ-ㅣ가-힣]+')"
   ]
  },
  {
   "cell_type": "code",
   "execution_count": 38,
   "id": "bae72811",
   "metadata": {
    "scrolled": true
   },
   "outputs": [
    {
     "data": {
      "text/html": [
       "<div>\n",
       "<style scoped>\n",
       "    .dataframe tbody tr th:only-of-type {\n",
       "        vertical-align: middle;\n",
       "    }\n",
       "\n",
       "    .dataframe tbody tr th {\n",
       "        vertical-align: top;\n",
       "    }\n",
       "\n",
       "    .dataframe thead th {\n",
       "        text-align: right;\n",
       "    }\n",
       "</style>\n",
       "<table border=\"1\" class=\"dataframe\">\n",
       "  <thead>\n",
       "    <tr style=\"text-align: right;\">\n",
       "      <th></th>\n",
       "      <th>CONTENT</th>\n",
       "      <th>INITIATION DATE</th>\n",
       "      <th>RELEVANT DEPARTMENT</th>\n",
       "    </tr>\n",
       "  </thead>\n",
       "  <tbody>\n",
       "    <tr>\n",
       "      <th>0</th>\n",
       "      <td>국회법 일부개정법률안</td>\n",
       "      <td>2022.5.6.</td>\n",
       "      <td>법제처</td>\n",
       "    </tr>\n",
       "    <tr>\n",
       "      <th>1</th>\n",
       "      <td>정부조직법 일부개정법률안</td>\n",
       "      <td>2022.5.6.</td>\n",
       "      <td>행정안전부</td>\n",
       "    </tr>\n",
       "    <tr>\n",
       "      <th>2</th>\n",
       "      <td>스토킹범죄의 처벌 등에 관한 법률 일부개정법률안</td>\n",
       "      <td>2022.5.6.</td>\n",
       "      <td>법무부</td>\n",
       "    </tr>\n",
       "    <tr>\n",
       "      <th>3</th>\n",
       "      <td>지방자치법 일부개정법률안</td>\n",
       "      <td>2022.5.6.</td>\n",
       "      <td>행정안전부</td>\n",
       "    </tr>\n",
       "    <tr>\n",
       "      <th>4</th>\n",
       "      <td>대통령직 인수에 관한 법률 일부개정법률안</td>\n",
       "      <td>2022.5.6.</td>\n",
       "      <td>행정안전부</td>\n",
       "    </tr>\n",
       "    <tr>\n",
       "      <th>...</th>\n",
       "      <td>...</td>\n",
       "      <td>...</td>\n",
       "      <td>...</td>\n",
       "    </tr>\n",
       "    <tr>\n",
       "      <th>30931</th>\n",
       "      <td>상훈법 일부개정법률안</td>\n",
       "      <td>2017.8.18.</td>\n",
       "      <td>행정안전부</td>\n",
       "    </tr>\n",
       "    <tr>\n",
       "      <th>30932</th>\n",
       "      <td>경륜·경정법 일부개정법률안</td>\n",
       "      <td>2017.8.18.</td>\n",
       "      <td>문화체육관광부</td>\n",
       "    </tr>\n",
       "    <tr>\n",
       "      <th>30933</th>\n",
       "      <td>도시 및 주거환경정비법 일부개정법률안</td>\n",
       "      <td>2017.8.18.</td>\n",
       "      <td>국토교통부</td>\n",
       "    </tr>\n",
       "    <tr>\n",
       "      <th>30934</th>\n",
       "      <td>교통약자의 이동편의 증진법 일부개정법률안</td>\n",
       "      <td>2017.8.18.</td>\n",
       "      <td>국토교통부</td>\n",
       "    </tr>\n",
       "    <tr>\n",
       "      <th>30935</th>\n",
       "      <td>건축물의 분양에 관한 법률 일부개정법률안</td>\n",
       "      <td>2017.8.18.</td>\n",
       "      <td>국토교통부</td>\n",
       "    </tr>\n",
       "  </tbody>\n",
       "</table>\n",
       "<p>30936 rows × 3 columns</p>\n",
       "</div>"
      ],
      "text/plain": [
       "                          CONTENT INITIATION DATE RELEVANT DEPARTMENT\n",
       "0                     국회법 일부개정법률안       2022.5.6.                 법제처\n",
       "1                   정부조직법 일부개정법률안       2022.5.6.               행정안전부\n",
       "2      스토킹범죄의 처벌 등에 관한 법률 일부개정법률안       2022.5.6.                 법무부\n",
       "3                   지방자치법 일부개정법률안       2022.5.6.               행정안전부\n",
       "4          대통령직 인수에 관한 법률 일부개정법률안       2022.5.6.               행정안전부\n",
       "...                           ...             ...                 ...\n",
       "30931                 상훈법 일부개정법률안      2017.8.18.               행정안전부\n",
       "30932              경륜·경정법 일부개정법률안      2017.8.18.             문화체육관광부\n",
       "30933        도시 및 주거환경정비법 일부개정법률안      2017.8.18.               국토교통부\n",
       "30934      교통약자의 이동편의 증진법 일부개정법률안      2017.8.18.               국토교통부\n",
       "30935      건축물의 분양에 관한 법률 일부개정법률안      2017.8.18.               국토교통부\n",
       "\n",
       "[30936 rows x 3 columns]"
      ]
     },
     "execution_count": 38,
     "metadata": {},
     "output_type": "execute_result"
    }
   ],
   "source": [
    "#쪼개져서 list로 존재하던 날짜를 join하여 하나의 문자열로 만듦\n",
    "for i in range(len(congress.index)):\n",
    "    congress['INITIATION DATE'][i] = ''.join(congress['INITIATION DATE'][i])\n",
    "    congress['RELEVANT DEPARTMENT'][i] = ''.join(congress['RELEVANT DEPARTMENT'][i])\n",
    "congress"
   ]
  },
  {
   "cell_type": "code",
   "execution_count": 39,
   "id": "1c900260",
   "metadata": {},
   "outputs": [
    {
     "data": {
      "text/html": [
       "<div>\n",
       "<style scoped>\n",
       "    .dataframe tbody tr th:only-of-type {\n",
       "        vertical-align: middle;\n",
       "    }\n",
       "\n",
       "    .dataframe tbody tr th {\n",
       "        vertical-align: top;\n",
       "    }\n",
       "\n",
       "    .dataframe thead th {\n",
       "        text-align: right;\n",
       "    }\n",
       "</style>\n",
       "<table border=\"1\" class=\"dataframe\">\n",
       "  <thead>\n",
       "    <tr style=\"text-align: right;\">\n",
       "      <th></th>\n",
       "      <th>CONTENT</th>\n",
       "      <th>INITIATION DATE</th>\n",
       "      <th>RELEVANT DEPARTMENT</th>\n",
       "    </tr>\n",
       "  </thead>\n",
       "  <tbody>\n",
       "    <tr>\n",
       "      <th>0</th>\n",
       "      <td>국회법 일부개정법률안</td>\n",
       "      <td>2022.5.6.</td>\n",
       "      <td>법제처</td>\n",
       "    </tr>\n",
       "    <tr>\n",
       "      <th>1</th>\n",
       "      <td>정부조직법 일부개정법률안</td>\n",
       "      <td>2022.5.6.</td>\n",
       "      <td>행정안전부</td>\n",
       "    </tr>\n",
       "    <tr>\n",
       "      <th>2</th>\n",
       "      <td>스토킹범죄의 처벌 등에 관한 법률 일부개정법률안</td>\n",
       "      <td>2022.5.6.</td>\n",
       "      <td>법무부</td>\n",
       "    </tr>\n",
       "    <tr>\n",
       "      <th>3</th>\n",
       "      <td>지방자치법 일부개정법률안</td>\n",
       "      <td>2022.5.6.</td>\n",
       "      <td>행정안전부</td>\n",
       "    </tr>\n",
       "    <tr>\n",
       "      <th>4</th>\n",
       "      <td>대통령직 인수에 관한 법률 일부개정법률안</td>\n",
       "      <td>2022.5.6.</td>\n",
       "      <td>행정안전부</td>\n",
       "    </tr>\n",
       "    <tr>\n",
       "      <th>...</th>\n",
       "      <td>...</td>\n",
       "      <td>...</td>\n",
       "      <td>...</td>\n",
       "    </tr>\n",
       "    <tr>\n",
       "      <th>30924</th>\n",
       "      <td>식품위생법 일부개정법률안</td>\n",
       "      <td>2017.8.21.</td>\n",
       "      <td>식품의약품안전처</td>\n",
       "    </tr>\n",
       "    <tr>\n",
       "      <th>30925</th>\n",
       "      <td>의료기사 등에 관한 법률 일부개정법률안</td>\n",
       "      <td>2017.8.21.</td>\n",
       "      <td>보건복지부</td>\n",
       "    </tr>\n",
       "    <tr>\n",
       "      <th>30926</th>\n",
       "      <td>농어촌주민의 보건복지 증진을 위한 특별법 일부개정법률안</td>\n",
       "      <td>2017.8.21.</td>\n",
       "      <td>보건복지부</td>\n",
       "    </tr>\n",
       "    <tr>\n",
       "      <th>30927</th>\n",
       "      <td>사회서비스 이용 및 이용권 관리에 관한 법률 일부개정법률안</td>\n",
       "      <td>2017.8.21.</td>\n",
       "      <td>보건복지부</td>\n",
       "    </tr>\n",
       "    <tr>\n",
       "      <th>30928</th>\n",
       "      <td>전기사업법 일부개정법률안</td>\n",
       "      <td>2017.8.21.</td>\n",
       "      <td>산업통상자원부</td>\n",
       "    </tr>\n",
       "  </tbody>\n",
       "</table>\n",
       "<p>30929 rows × 3 columns</p>\n",
       "</div>"
      ],
      "text/plain": [
       "                                CONTENT INITIATION DATE RELEVANT DEPARTMENT\n",
       "0                           국회법 일부개정법률안       2022.5.6.                 법제처\n",
       "1                         정부조직법 일부개정법률안       2022.5.6.               행정안전부\n",
       "2            스토킹범죄의 처벌 등에 관한 법률 일부개정법률안       2022.5.6.                 법무부\n",
       "3                         지방자치법 일부개정법률안       2022.5.6.               행정안전부\n",
       "4                대통령직 인수에 관한 법률 일부개정법률안       2022.5.6.               행정안전부\n",
       "...                                 ...             ...                 ...\n",
       "30924                     식품위생법 일부개정법률안      2017.8.21.            식품의약품안전처\n",
       "30925             의료기사 등에 관한 법률 일부개정법률안      2017.8.21.               보건복지부\n",
       "30926    농어촌주민의 보건복지 증진을 위한 특별법 일부개정법률안      2017.8.21.               보건복지부\n",
       "30927  사회서비스 이용 및 이용권 관리에 관한 법률 일부개정법률안      2017.8.21.               보건복지부\n",
       "30928                     전기사업법 일부개정법률안      2017.8.21.             산업통상자원부\n",
       "\n",
       "[30929 rows x 3 columns]"
      ]
     },
     "execution_count": 39,
     "metadata": {},
     "output_type": "execute_result"
    }
   ],
   "source": [
    "#청와대 국민청원 서비스 시작일에 해당하지 않는 2022.8.18 법안 삭제\n",
    "congress = congress.drop([30929, 30930, 30931, 30932, 30933, 30934, 30935])\n",
    "congress"
   ]
  },
  {
   "cell_type": "code",
   "execution_count": 40,
   "id": "378bc913",
   "metadata": {},
   "outputs": [],
   "source": [
    "congress.to_csv(\"congress_law_crawling.csv\", index=False)"
   ]
  },
  {
   "cell_type": "code",
   "execution_count": 42,
   "id": "da9db79d",
   "metadata": {},
   "outputs": [],
   "source": [
    "congress.to_excel(\"congress_law_crawling.xlsx\", index=False)"
   ]
  }
 ],
 "metadata": {
  "kernelspec": {
   "display_name": "Python 3 (ipykernel)",
   "language": "python",
   "name": "python3"
  },
  "language_info": {
   "codemirror_mode": {
    "name": "ipython",
    "version": 3
   },
   "file_extension": ".py",
   "mimetype": "text/x-python",
   "name": "python",
   "nbconvert_exporter": "python",
   "pygments_lexer": "ipython3",
   "version": "3.9.7"
  }
 },
 "nbformat": 4,
 "nbformat_minor": 5
}
